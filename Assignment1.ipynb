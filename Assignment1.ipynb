{
 "cells": [
  {
   "cell_type": "code",
   "execution_count": 2,
   "id": "8e9ee694",
   "metadata": {},
   "outputs": [
    {
     "data": {
      "text/plain": [
       "array([0., 0., 0., 0., 1., 0., 0., 0., 0., 0.])"
      ]
     },
     "execution_count": 2,
     "metadata": {},
     "output_type": "execute_result"
    }
   ],
   "source": [
    "import numpy as np\n",
    "\n",
    "#1. Create a null vector of size 10 but the fifth value which is 1.\n",
    "\n",
    "vector=np.zeros(10)\n",
    "vector[4]=1\n",
    "vector\n",
    "\n"
   ]
  },
  {
   "cell_type": "code",
   "execution_count": 3,
   "id": "96886d3f",
   "metadata": {},
   "outputs": [
    {
     "data": {
      "text/plain": [
       "array([10, 11, 12, 13, 14, 15, 16, 17, 18, 19, 20, 21, 22, 23, 24, 25, 26,\n",
       "       27, 28, 29, 30, 31, 32, 33, 34, 35, 36, 37, 38, 39, 40, 41, 42, 43,\n",
       "       44, 45, 46, 47, 48, 49])"
      ]
     },
     "execution_count": 3,
     "metadata": {},
     "output_type": "execute_result"
    }
   ],
   "source": [
    "#2.Create a vector with values ranging from 10 to 49.\n",
    "\n",
    "x=np.arange(10,50)\n",
    "x"
   ]
  },
  {
   "cell_type": "code",
   "execution_count": 7,
   "id": "f24331dc",
   "metadata": {},
   "outputs": [
    {
     "data": {
      "text/plain": [
       "array([[0, 1, 2],\n",
       "       [3, 4, 5],\n",
       "       [6, 7, 8]])"
      ]
     },
     "execution_count": 7,
     "metadata": {},
     "output_type": "execute_result"
    }
   ],
   "source": [
    "#3.Create a 3x3 matrix with values ranging from 0 to 8\n",
    "\n",
    "matrix=np.arange(9).reshape(3,3)\n",
    "matrix"
   ]
  },
  {
   "cell_type": "code",
   "execution_count": 13,
   "id": "123cec89",
   "metadata": {},
   "outputs": [
    {
     "name": "stdout",
     "output_type": "stream",
     "text": [
      "(array([0, 1, 4], dtype=int64),)\n"
     ]
    }
   ],
   "source": [
    "#4. Find indices of non-zero elements from [1,2,0,0,4,0]\n",
    "\n",
    "a=np.array([1,2,0,0,4,0])\n",
    "print(a.nonzero())\n"
   ]
  },
  {
   "cell_type": "code",
   "execution_count": 24,
   "id": "0bc92fd0",
   "metadata": {},
   "outputs": [
    {
     "name": "stdout",
     "output_type": "stream",
     "text": [
      "[[204 917 230 439 177 952 471 117 754 290]\n",
      " [107 289 499 818 905 245 265  57 463 371]\n",
      " [483 956 485 215 425   3 673 118 147 116]\n",
      " [ 56 694 506 944 956 684 832 836 109 680]\n",
      " [385 421 734 618 567 259 722 211  83 681]\n",
      " [862 171 529 573 150 255 245 700 615 552]\n",
      " [275 663 869 457  12 952  93 673 664 706]\n",
      " [258 620 400  30 499 852 288 321 442 738]\n",
      " [120 517 477 924 516 113 248 831 354 966]\n",
      " [114 790 122 108 634 257 688 626 800 868]]\n",
      "966\n",
      "3\n"
     ]
    }
   ],
   "source": [
    "#5. Create a 10x10 array with random values and find the minimum and maximum values.\n",
    "mat=np.random.randint(1,1000,(10,10))\n",
    "print(mat)\n",
    "print(mat.max())\n",
    "print(mat.min())"
   ]
  },
  {
   "cell_type": "code",
   "execution_count": 33,
   "id": "ea21ca5d",
   "metadata": {},
   "outputs": [
    {
     "name": "stdout",
     "output_type": "stream",
     "text": [
      "[[36 99 77 60 63 12 91  6 60 95]\n",
      " [64 48 10 66 22 15 11 41 93 59]\n",
      " [17 25 24 70 85  4 25 35 50 50]]\n",
      "47.1\n"
     ]
    }
   ],
   "source": [
    "#6. Create a random vector of size 30 and find the mean value.\n",
    "x=np.random.randint(0,100,(3,10))\n",
    "print(x)\n",
    "print(x.mean())"
   ]
  },
  {
   "cell_type": "code",
   "execution_count": null,
   "id": "98ae28cf",
   "metadata": {},
   "outputs": [],
   "source": []
  },
  {
   "cell_type": "code",
   "execution_count": null,
   "id": "53e28a86",
   "metadata": {},
   "outputs": [],
   "source": []
  }
 ],
 "metadata": {
  "kernelspec": {
   "display_name": "Python 3 (ipykernel)",
   "language": "python",
   "name": "python3"
  },
  "language_info": {
   "codemirror_mode": {
    "name": "ipython",
    "version": 3
   },
   "file_extension": ".py",
   "mimetype": "text/x-python",
   "name": "python",
   "nbconvert_exporter": "python",
   "pygments_lexer": "ipython3",
   "version": "3.8.0"
  }
 },
 "nbformat": 4,
 "nbformat_minor": 5
}
